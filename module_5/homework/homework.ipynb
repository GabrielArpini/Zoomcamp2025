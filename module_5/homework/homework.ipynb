{
 "cells": [
  {
   "cell_type": "code",
   "execution_count": 32,
   "id": "8608c12d-d684-4271-9f2b-2eb6fe801e90",
   "metadata": {},
   "outputs": [],
   "source": [
    "import pyspark\n",
    "from pyspark.sql import SparkSession"
   ]
  },
  {
   "cell_type": "code",
   "execution_count": 2,
   "id": "b4655c05-b0ad-4bed-b94f-3b2f91f2e1e9",
   "metadata": {},
   "outputs": [
    {
     "name": "stdout",
     "output_type": "stream",
     "text": [
      "--2025-03-05 18:35:29--  https://d37ci6vzurychx.cloudfront.net/trip-data/yellow_tripdata_2024-10.parquet\n",
      "65.8.245.178, 65.8.245.171, 65.8.245.51, ...ci6vzurychx.cloudfront.net)... \n",
      "connected. to d37ci6vzurychx.cloudfront.net (d37ci6vzurychx.cloudfront.net)|65.8.245.178|:443... \n",
      "HTTP request sent, awaiting response... 200 OK\n",
      "Length: 64346071 (61M) [binary/octet-stream]\n",
      "Saving to: ‘yellow_tripdata_2024-10.parquet’\n",
      "\n",
      "yellow_tripdata_202 100%[===================>]  61.36M  19.4MB/s    in 3.5s    \n",
      "\n",
      "2025-03-05 18:35:33 (17.6 MB/s) - ‘yellow_tripdata_2024-10.parquet’ saved [64346071/64346071]\n",
      "\n"
     ]
    }
   ],
   "source": [
    "!wget https://d37ci6vzurychx.cloudfront.net/trip-data/yellow_tripdata_2024-10.parquet"
   ]
  },
  {
   "cell_type": "markdown",
   "id": "31a2e0a8-f095-4cc8-80ba-667945b066f2",
   "metadata": {},
   "source": [
    "# Question 1"
   ]
  },
  {
   "cell_type": "code",
   "execution_count": 39,
   "id": "94a6740e-cca5-4126-9c16-d7a6a28cbe37",
   "metadata": {},
   "outputs": [
    {
     "data": {
      "text/plain": [
       "'3.3.2'"
      ]
     },
     "execution_count": 39,
     "metadata": {},
     "output_type": "execute_result"
    }
   ],
   "source": [
    "pyspark.__version__"
   ]
  },
  {
   "cell_type": "markdown",
   "id": "c7199336-1bc4-48ea-9d85-56463c9ebb21",
   "metadata": {},
   "source": [
    "<b> Answer 1:\n",
    "'3.3.2' <b>"
   ]
  },
  {
   "cell_type": "code",
   "execution_count": 33,
   "id": "90a9cebf-cfa9-4c0a-9677-9cd6ac281498",
   "metadata": {},
   "outputs": [],
   "source": [
    "spark = SparkSession.builder \\\n",
    "    .master(\"local[*]\") \\\n",
    "    .appName('test') \\\n",
    "    .getOrCreate()"
   ]
  },
  {
   "cell_type": "code",
   "execution_count": 34,
   "id": "2768b649-6b52-4539-8fc4-c0c3815deedb",
   "metadata": {},
   "outputs": [
    {
     "data": {
      "text/plain": [
       "StructType([StructField('VendorID', IntegerType(), True), StructField('tpep_pickup_datetime', TimestampType(), True), StructField('tpep_dropoff_datetime', TimestampType(), True), StructField('passenger_count', LongType(), True), StructField('trip_distance', DoubleType(), True), StructField('RatecodeID', LongType(), True), StructField('store_and_fwd_flag', StringType(), True), StructField('PULocationID', IntegerType(), True), StructField('DOLocationID', IntegerType(), True), StructField('payment_type', LongType(), True), StructField('fare_amount', DoubleType(), True), StructField('extra', DoubleType(), True), StructField('mta_tax', DoubleType(), True), StructField('tip_amount', DoubleType(), True), StructField('tolls_amount', DoubleType(), True), StructField('improvement_surcharge', DoubleType(), True), StructField('total_amount', DoubleType(), True), StructField('congestion_surcharge', DoubleType(), True), StructField('Airport_fee', DoubleType(), True)])"
      ]
     },
     "execution_count": 34,
     "metadata": {},
     "output_type": "execute_result"
    }
   ],
   "source": [
    "df = spark.read.option(\"header\",\"true\").option(\"inferSchema\",\"true\").parquet(\"yellow_tripdata_2024-10.parquet\")\n",
    "df.schema"
   ]
  },
  {
   "cell_type": "code",
   "execution_count": 35,
   "id": "9eed5744-ab74-4001-96c2-184708e7e734",
   "metadata": {},
   "outputs": [
    {
     "name": "stdout",
     "output_type": "stream",
     "text": [
      "+--------+--------------------+---------------------+---------------+-------------+----------+------------------+------------+------------+------------+-----------+-----+-------+----------+------------+---------------------+------------+--------------------+-----------+\n",
      "|VendorID|tpep_pickup_datetime|tpep_dropoff_datetime|passenger_count|trip_distance|RatecodeID|store_and_fwd_flag|PULocationID|DOLocationID|payment_type|fare_amount|extra|mta_tax|tip_amount|tolls_amount|improvement_surcharge|total_amount|congestion_surcharge|Airport_fee|\n",
      "+--------+--------------------+---------------------+---------------+-------------+----------+------------------+------------+------------+------------+-----------+-----+-------+----------+------------+---------------------+------------+--------------------+-----------+\n",
      "|       2| 2024-09-30 21:30:44|  2024-09-30 21:48:26|              1|          3.0|         1|                 N|         162|         246|           1|       18.4|  1.0|    0.5|       1.5|         0.0|                  1.0|        24.9|                 2.5|        0.0|\n",
      "|       1| 2024-09-30 21:12:20|  2024-09-30 21:25:25|              1|          2.2|         1|                 N|          48|         236|           1|       14.2|  3.5|    0.5|       3.8|         0.0|                  1.0|        23.0|                 2.5|        0.0|\n",
      "|       1| 2024-09-30 21:04:46|  2024-09-30 21:13:52|              1|          2.7|         1|                 N|         142|          24|           1|       13.5|  3.5|    0.5|       3.7|         0.0|                  1.0|        22.2|                 2.5|        0.0|\n",
      "|       1| 2024-09-30 21:12:10|  2024-09-30 21:23:01|              1|          3.1|         1|                 N|         233|          75|           1|       14.2|  3.5|    0.5|       2.0|         0.0|                  1.0|        21.2|                 2.5|        0.0|\n",
      "|       1| 2024-09-30 21:30:22|  2024-09-30 21:30:39|              1|          0.0|         1|                 N|         262|         262|           3|        3.0|  3.5|    0.5|       0.0|         0.0|                  1.0|         8.0|                 2.5|        0.0|\n",
      "|       2| 2024-09-30 21:31:20|  2024-09-30 21:36:00|              2|         0.97|         1|                 N|         137|         137|           1|        7.2|  1.0|    0.5|      2.44|         0.0|                  1.0|       14.64|                 2.5|        0.0|\n",
      "|       1| 2024-09-30 21:42:57|  2024-09-30 21:49:01|              1|          1.3|         1|                 N|         142|          48|           1|        7.9|  3.5|    0.5|      2.55|         0.0|                  1.0|       15.45|                 2.5|        0.0|\n",
      "|       1| 2024-09-30 21:59:55|  2024-09-30 22:02:24|              1|          0.5|         1|                 N|         230|         161|           1|        5.1|  3.5|    0.5|       2.0|         0.0|                  1.0|        12.1|                 2.5|        0.0|\n",
      "|       1| 2024-09-30 21:00:47|  2024-09-30 21:04:22|              0|          1.1|         1|                 N|         142|         237|           1|        7.2|  3.5|    0.5|       3.0|         0.0|                  1.0|        15.2|                 2.5|        0.0|\n",
      "|       1| 2024-09-30 21:17:36|  2024-09-30 21:26:22|              1|          2.2|         1|                 N|         162|         145|           1|       11.4|  3.5|    0.5|       3.3|         0.0|                  1.0|        19.7|                 2.5|        0.0|\n",
      "|       1| 2024-09-30 21:49:00|  2024-09-30 21:52:20|              1|          0.6|         1|                 N|         229|         162|           1|        5.1|  3.5|    0.5|       2.0|         0.0|                  1.0|        12.1|                 2.5|        0.0|\n",
      "|       2| 2024-09-30 21:07:26|  2024-09-30 21:13:20|              1|          0.9|         1|                 N|         162|         162|           1|        7.9|  1.0|    0.5|      3.87|         0.0|                  1.0|       16.77|                 2.5|        0.0|\n",
      "|       2| 2024-09-30 21:17:11|  2024-09-30 21:25:00|              1|         1.33|         1|                 N|         162|         230|           1|        9.3|  1.0|    0.5|       2.0|         0.0|                  1.0|        16.3|                 2.5|        0.0|\n",
      "|       2| 2024-09-30 21:00:34|  2024-09-30 21:05:13|              1|         1.79|         1|                 N|         211|         234|           1|        9.3|  1.0|    0.5|      2.86|         0.0|                  1.0|       17.16|                 2.5|        0.0|\n",
      "|       2| 2024-09-30 20:58:40|  2024-09-30 21:20:26|              1|         5.16|         1|                 N|         142|           7|           1|       24.7|  1.0|    0.5|       0.0|         0.0|                  1.0|        29.7|                 2.5|        0.0|\n",
      "|       1| 2024-09-30 21:55:29|  2024-09-30 22:42:35|              1|         11.3|        99|                 N|         161|         197|           1|       39.5|  0.0|    0.5|       0.0|        6.94|                  1.0|       47.94|                 0.0|        0.0|\n",
      "|       1| 2024-09-30 21:08:59|  2024-09-30 21:40:58|              1|         20.6|         1|                 N|         132|         243|           2|       76.5| 2.75|    0.5|       0.0|        6.94|                  1.0|       87.69|                 0.0|       1.75|\n",
      "|       2| 2024-09-30 21:18:38|  2024-09-30 21:36:47|              2|         7.42|         1|                 N|         239|         247|           4|      -33.1| -1.0|   -0.5|       0.0|         0.0|                 -1.0|       -38.1|                -2.5|        0.0|\n",
      "|       2| 2024-09-30 21:18:38|  2024-09-30 21:36:47|              2|         7.42|         1|                 N|         239|         247|           4|       33.1|  1.0|    0.5|       0.0|         0.0|                  1.0|        38.1|                 2.5|        0.0|\n",
      "|       2| 2024-09-30 21:39:33|  2024-09-30 21:53:59|              1|         4.49|         1|                 N|         247|          60|           2|       21.9|  1.0|    0.5|       0.0|         0.0|                  1.0|        24.4|                 0.0|        0.0|\n",
      "+--------+--------------------+---------------------+---------------+-------------+----------+------------------+------------+------------+------------+-----------+-----+-------+----------+------------+---------------------+------------+--------------------+-----------+\n",
      "only showing top 20 rows\n",
      "\n"
     ]
    }
   ],
   "source": [
    "df.show()"
   ]
  },
  {
   "cell_type": "markdown",
   "id": "f63c16d5-3bbe-4b78-9c33-763aa52bd649",
   "metadata": {},
   "source": [
    "# Question 2"
   ]
  },
  {
   "cell_type": "code",
   "execution_count": 37,
   "id": "eae116da-e3d5-45b8-aa77-1b4ac5fef748",
   "metadata": {},
   "outputs": [
    {
     "name": "stderr",
     "output_type": "stream",
     "text": [
      "                                                                                "
     ]
    }
   ],
   "source": [
    "df = df.repartition(4)\n",
    "df.write.parquet('yellow_tripdata/2024/10')"
   ]
  },
  {
   "cell_type": "markdown",
   "id": "7c46401b-72cf-44b7-92d6-fad358c804ac",
   "metadata": {},
   "source": [
    "<b>Answer 2:\n",
    "25 MB <b>"
   ]
  },
  {
   "cell_type": "code",
   "execution_count": 43,
   "id": "8c10b1a6-0a4b-450f-9b5c-6f7f803c23d4",
   "metadata": {},
   "outputs": [],
   "source": [
    "df.createOrReplaceTempView('yellow_taxi')"
   ]
  },
  {
   "cell_type": "code",
   "execution_count": 61,
   "id": "06de356c-4865-4604-bd6e-37c4a757066d",
   "metadata": {},
   "outputs": [
    {
     "data": {
      "text/plain": [
       "3833771"
      ]
     },
     "execution_count": 61,
     "metadata": {},
     "output_type": "execute_result"
    }
   ],
   "source": [
    "spark.sql(\"\"\"\n",
    "SELECT * FROM yellow_taxi;\n",
    "\"\"\"\n",
    ").count()"
   ]
  },
  {
   "cell_type": "markdown",
   "id": "c0e6d583-79f3-47ae-ac30-25565c185f5e",
   "metadata": {},
   "source": [
    "# Question 3"
   ]
  },
  {
   "cell_type": "code",
   "execution_count": 50,
   "id": "d969a004-ba95-4ba9-a910-3e61e09517ac",
   "metadata": {},
   "outputs": [
    {
     "name": "stdout",
     "output_type": "stream",
     "text": [
      "root\n",
      " |-- VendorID: integer (nullable = true)\n",
      " |-- tpep_pickup_datetime: timestamp (nullable = true)\n",
      " |-- tpep_dropoff_datetime: timestamp (nullable = true)\n",
      " |-- passenger_count: long (nullable = true)\n",
      " |-- trip_distance: double (nullable = true)\n",
      " |-- RatecodeID: long (nullable = true)\n",
      " |-- store_and_fwd_flag: string (nullable = true)\n",
      " |-- PULocationID: integer (nullable = true)\n",
      " |-- DOLocationID: integer (nullable = true)\n",
      " |-- payment_type: long (nullable = true)\n",
      " |-- fare_amount: double (nullable = true)\n",
      " |-- extra: double (nullable = true)\n",
      " |-- mta_tax: double (nullable = true)\n",
      " |-- tip_amount: double (nullable = true)\n",
      " |-- tolls_amount: double (nullable = true)\n",
      " |-- improvement_surcharge: double (nullable = true)\n",
      " |-- total_amount: double (nullable = true)\n",
      " |-- congestion_surcharge: double (nullable = true)\n",
      " |-- Airport_fee: double (nullable = true)\n",
      "\n"
     ]
    }
   ],
   "source": [
    "df.printSchema()"
   ]
  },
  {
   "cell_type": "code",
   "execution_count": 71,
   "id": "1f83b02c-757d-44be-aafe-f5d8e1be19b3",
   "metadata": {},
   "outputs": [
    {
     "name": "stdout",
     "output_type": "stream",
     "text": [
      "+--------+\n",
      "|count(1)|\n",
      "+--------+\n",
      "|  128811|\n",
      "+--------+\n",
      "\n"
     ]
    }
   ],
   "source": [
    "spark.sql(\"\"\"\n",
    "SELECT COUNT(1) FROM yellow_taxi\n",
    "WHERE DATE(tpep_pickup_datetime) = '2024-10-15';\n",
    "\"\"\"\n",
    ").show()"
   ]
  },
  {
   "cell_type": "markdown",
   "id": "7e021f99-f885-4962-8ec6-0558df23db61",
   "metadata": {},
   "source": [
    "<b> Answer 3: 128811 <b>"
   ]
  },
  {
   "cell_type": "markdown",
   "id": "b4c937cf-14bd-43ff-a53b-48432f71182d",
   "metadata": {},
   "source": [
    "# Question 4"
   ]
  },
  {
   "cell_type": "code",
   "execution_count": 81,
   "id": "15925017-4919-4e64-b8bf-d09525dee9c1",
   "metadata": {},
   "outputs": [
    {
     "name": "stderr",
     "output_type": "stream",
     "text": [
      "[Stage 139:==========================================>             (9 + 3) / 12]"
     ]
    },
    {
     "name": "stdout",
     "output_type": "stream",
     "text": [
      "+--------------------------------------------------------------------------------------------------------------------------------------+\n",
      "|max(((unix_timestamp(tpep_dropoff_datetime, yyyy-MM-dd HH:mm:ss) - unix_timestamp(tpep_pickup_datetime, yyyy-MM-dd HH:mm:ss)) / 3600))|\n",
      "+--------------------------------------------------------------------------------------------------------------------------------------+\n",
      "|                                                                                                                    162.61777777777777|\n",
      "+--------------------------------------------------------------------------------------------------------------------------------------+\n",
      "\n"
     ]
    },
    {
     "name": "stderr",
     "output_type": "stream",
     "text": [
      "                                                                                "
     ]
    }
   ],
   "source": [
    "spark.sql(\"\"\"\n",
    "SELECT MAX((UNIX_TIMESTAMP(tpep_dropoff_datetime) - UNIX_TIMESTAMP(tpep_pickup_datetime)) / 3600) FROM yellow_taxi;\n",
    "\"\"\"\n",
    ").show()"
   ]
  },
  {
   "cell_type": "markdown",
   "id": "b6a62a82-ed81-41c4-9c0c-cb919567c7c6",
   "metadata": {},
   "source": [
    "<b> Answer 4: 162 <b>"
   ]
  },
  {
   "cell_type": "markdown",
   "id": "217989d3-2b1d-4752-b2f0-967e71dbfd3a",
   "metadata": {},
   "source": [
    "# Question 5"
   ]
  },
  {
   "cell_type": "markdown",
   "id": "1a0b5477-7515-4133-82e1-531b0d9bec97",
   "metadata": {},
   "source": [
    "URL Example = http://localhost:4040/jobs/\n",
    "\n",
    "<b> Answer: 4040 <b> "
   ]
  },
  {
   "cell_type": "code",
   "execution_count": 83,
   "id": "a6e56c52-5ed7-4e93-87d8-5d1b1605970d",
   "metadata": {},
   "outputs": [
    {
     "name": "stdout",
     "output_type": "stream",
     "text": [
      "--2025-03-05 19:27:35--  https://d37ci6vzurychx.cloudfront.net/misc/taxi_zone_lookup.csv\n",
      "65.8.245.51, 65.8.245.171, 65.8.245.50, ...7ci6vzurychx.cloudfront.net)... \n",
      "connected. to d37ci6vzurychx.cloudfront.net (d37ci6vzurychx.cloudfront.net)|65.8.245.51|:443... \n",
      "HTTP request sent, awaiting response... 200 OK\n",
      "Length: 12331 (12K) [text/csv]\n",
      "Saving to: ‘taxi_zone_lookup.csv’\n",
      "\n",
      "taxi_zone_lookup.cs 100%[===================>]  12.04K  --.-KB/s    in 0.01s   \n",
      "\n",
      "2025-03-05 19:27:36 (1.21 MB/s) - ‘taxi_zone_lookup.csv’ saved [12331/12331]\n",
      "\n"
     ]
    }
   ],
   "source": [
    "!wget https://d37ci6vzurychx.cloudfront.net/misc/taxi_zone_lookup.csv"
   ]
  },
  {
   "cell_type": "code",
   "execution_count": 87,
   "id": "507333e9-05c0-42b7-8b86-aff90fbeaa9e",
   "metadata": {},
   "outputs": [],
   "source": [
    "\n",
    "zone_df = spark.read \\\n",
    "    .option(\"header\", \"true\") \\\n",
    "    .option(\"inferSchema\", \"true\") \\\n",
    "    .csv('taxi_zone_lookup.csv')"
   ]
  },
  {
   "cell_type": "code",
   "execution_count": 88,
   "id": "f9321818-8dcb-4d54-b497-96dd43bdf583",
   "metadata": {},
   "outputs": [
    {
     "name": "stdout",
     "output_type": "stream",
     "text": [
      "+----------+-------------+--------------------+------------+\n",
      "|LocationID|      Borough|                Zone|service_zone|\n",
      "+----------+-------------+--------------------+------------+\n",
      "|         1|          EWR|      Newark Airport|         EWR|\n",
      "|         2|       Queens|         Jamaica Bay|   Boro Zone|\n",
      "|         3|        Bronx|Allerton/Pelham G...|   Boro Zone|\n",
      "|         4|    Manhattan|       Alphabet City| Yellow Zone|\n",
      "|         5|Staten Island|       Arden Heights|   Boro Zone|\n",
      "|         6|Staten Island|Arrochar/Fort Wad...|   Boro Zone|\n",
      "|         7|       Queens|             Astoria|   Boro Zone|\n",
      "|         8|       Queens|        Astoria Park|   Boro Zone|\n",
      "|         9|       Queens|          Auburndale|   Boro Zone|\n",
      "|        10|       Queens|        Baisley Park|   Boro Zone|\n",
      "|        11|     Brooklyn|          Bath Beach|   Boro Zone|\n",
      "|        12|    Manhattan|        Battery Park| Yellow Zone|\n",
      "|        13|    Manhattan|   Battery Park City| Yellow Zone|\n",
      "|        14|     Brooklyn|           Bay Ridge|   Boro Zone|\n",
      "|        15|       Queens|Bay Terrace/Fort ...|   Boro Zone|\n",
      "|        16|       Queens|             Bayside|   Boro Zone|\n",
      "|        17|     Brooklyn|             Bedford|   Boro Zone|\n",
      "|        18|        Bronx|        Bedford Park|   Boro Zone|\n",
      "|        19|       Queens|           Bellerose|   Boro Zone|\n",
      "|        20|        Bronx|             Belmont|   Boro Zone|\n",
      "+----------+-------------+--------------------+------------+\n",
      "only showing top 20 rows\n",
      "\n"
     ]
    }
   ],
   "source": [
    "zone_df.show()"
   ]
  },
  {
   "cell_type": "code",
   "execution_count": 89,
   "id": "1df96f96-edc2-430e-ba4f-556a0937ef10",
   "metadata": {},
   "outputs": [],
   "source": [
    "zone_df.registerTempTable('zone_lookup')  "
   ]
  },
  {
   "cell_type": "markdown",
   "id": "38f5f389-4ddf-46e3-b272-c7a4cafd1677",
   "metadata": {},
   "source": [
    "# Question 6"
   ]
  },
  {
   "cell_type": "code",
   "execution_count": 95,
   "id": "9d434e9b-0cd8-4faf-8dc5-8186b434368e",
   "metadata": {},
   "outputs": [
    {
     "name": "stdout",
     "output_type": "stream",
     "text": [
      "+--------------------+\n",
      "|                Zone|\n",
      "+--------------------+\n",
      "|Governor's Island...|\n",
      "|       Rikers Island|\n",
      "|       Arden Heights|\n",
      "| Green-Wood Cemetery|\n",
      "|         Jamaica Bay|\n",
      "|   Rossville/Woodrow|\n",
      "|Charleston/Totten...|\n",
      "|       West Brighton|\n",
      "|Eltingville/Annad...|\n",
      "|       Port Richmond|\n",
      "|        Crotona Park|\n",
      "|         Great Kills|\n",
      "|     Mariners Harbor|\n",
      "|Heartland Village...|\n",
      "|Saint George/New ...|\n",
      "|             Oakwood|\n",
      "|New Dorp/Midland ...|\n",
      "|       Broad Channel|\n",
      "|         Westerleigh|\n",
      "|     Pelham Bay Park|\n",
      "+--------------------+\n",
      "only showing top 20 rows\n",
      "\n"
     ]
    }
   ],
   "source": [
    "spark.sql(\"\"\"\n",
    "SELECT zl.Zone FROM zone_lookup AS zl\n",
    "INNER JOIN yellow_taxi AS yt ON yt.PULocationID = zl.LocationID\n",
    "GROUP BY 1\n",
    "ORDER BY COUNT(1) ASC;\n",
    "\"\"\").show()"
   ]
  },
  {
   "cell_type": "markdown",
   "id": "9eff01b3-2356-457b-94e0-1759c5d4b22b",
   "metadata": {},
   "source": [
    "<b> Answer: Governor's Island... <b>"
   ]
  },
  {
   "cell_type": "code",
   "execution_count": null,
   "id": "bafa1af3-0db3-4a2d-ad3f-6b1a2aca7e39",
   "metadata": {},
   "outputs": [],
   "source": []
  }
 ],
 "metadata": {
  "kernelspec": {
   "display_name": "Python 3 (ipykernel)",
   "language": "python",
   "name": "python3"
  },
  "language_info": {
   "codemirror_mode": {
    "name": "ipython",
    "version": 3
   },
   "file_extension": ".py",
   "mimetype": "text/x-python",
   "name": "python",
   "nbconvert_exporter": "python",
   "pygments_lexer": "ipython3",
   "version": "3.12.3"
  }
 },
 "nbformat": 4,
 "nbformat_minor": 5
}
